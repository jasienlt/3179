{
 "cells": [
  {
   "cell_type": "code",
   "execution_count": 2,
   "id": "c47469be",
   "metadata": {},
   "outputs": [],
   "source": [
    "import pandas as pd\n",
    "startup = pd.read_csv(\"startups.csv\")\n",
    "bigcorp = pd.read_csv(\"campanydata.csv\")"
   ]
  },
  {
   "cell_type": "code",
   "execution_count": null,
   "id": "a5c63fcc",
   "metadata": {},
   "outputs": [],
   "source": []
  }
 ],
 "metadata": {
  "kernelspec": {
   "display_name": "Python 3 (ipykernel)",
   "language": "python",
   "name": "python3"
  },
  "language_info": {
   "codemirror_mode": {
    "name": "ipython",
    "version": 3
   },
   "file_extension": ".py",
   "mimetype": "text/x-python",
   "name": "python",
   "nbconvert_exporter": "python",
   "pygments_lexer": "ipython3",
   "version": "3.9.12"
  }
 },
 "nbformat": 4,
 "nbformat_minor": 5
}
